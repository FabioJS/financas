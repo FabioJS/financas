{
 "cells": [
  {
   "cell_type": "code",
   "execution_count": 1,
   "metadata": {},
   "outputs": [],
   "source": [
    "# Importa a biblioteca do Pandas para Manipulação e análise de dados\n",
    "import pandas as pd\n",
    "# Importa a biblioteca do Numpy para trabalhar com matrizes uni/multidimensionais\n",
    "import numpy as np\n",
    "# Importa o módulo datetime para trabalhar com datas e o timedelta para calculos/diferenças entre datas\n",
    "from datetime import datetime, timedelta"
   ]
  },
  {
   "cell_type": "markdown",
   "metadata": {},
   "source": [
    "<h3>Carregando os dados do arquivo</h3>"
   ]
  },
  {
   "cell_type": "code",
   "execution_count": 2,
   "metadata": {},
   "outputs": [
    {
     "data": {
      "text/html": [
       "<div>\n",
       "<style scoped>\n",
       "    .dataframe tbody tr th:only-of-type {\n",
       "        vertical-align: middle;\n",
       "    }\n",
       "\n",
       "    .dataframe tbody tr th {\n",
       "        vertical-align: top;\n",
       "    }\n",
       "\n",
       "    .dataframe thead th {\n",
       "        text-align: right;\n",
       "    }\n",
       "</style>\n",
       "<table border=\"1\" class=\"dataframe\">\n",
       "  <thead>\n",
       "    <tr style=\"text-align: right;\">\n",
       "      <th></th>\n",
       "      <th>Data</th>\n",
       "      <th>Descrição</th>\n",
       "      <th>Categoria</th>\n",
       "      <th>Valor</th>\n",
       "      <th>Situação</th>\n",
       "      <th>Informações adicionais</th>\n",
       "    </tr>\n",
       "  </thead>\n",
       "  <tbody>\n",
       "    <tr>\n",
       "      <td>0</td>\n",
       "      <td>01.03.2020</td>\n",
       "      <td>Salário</td>\n",
       "      <td>Other earnings</td>\n",
       "      <td>2000</td>\n",
       "      <td>Pago</td>\n",
       "      <td>NaN</td>\n",
       "    </tr>\n",
       "    <tr>\n",
       "      <td>1</td>\n",
       "      <td>10.03.2020</td>\n",
       "      <td>Condomínio</td>\n",
       "      <td>Home</td>\n",
       "      <td>-145</td>\n",
       "      <td>Pago</td>\n",
       "      <td>NaN</td>\n",
       "    </tr>\n",
       "    <tr>\n",
       "      <td>2</td>\n",
       "      <td>10.03.2020</td>\n",
       "      <td>Aluguel</td>\n",
       "      <td>Home</td>\n",
       "      <td>-650</td>\n",
       "      <td>Pago</td>\n",
       "      <td>NaN</td>\n",
       "    </tr>\n",
       "  </tbody>\n",
       "</table>\n",
       "</div>"
      ],
      "text/plain": [
       "         Data   Descrição       Categoria Valor Situação  \\\n",
       "0  01.03.2020     Salário  Other earnings  2000     Pago   \n",
       "1  10.03.2020  Condomínio            Home  -145     Pago   \n",
       "2  10.03.2020     Aluguel            Home  -650     Pago   \n",
       "\n",
       "   Informações adicionais  \n",
       "0                     NaN  \n",
       "1                     NaN  \n",
       "2                     NaN  "
      ]
     },
     "execution_count": 2,
     "metadata": {},
     "output_type": "execute_result"
    }
   ],
   "source": [
    "# Carrega os dados do arquivo para um dataframe do pandas (utiliza codificação 'latin-1' para leitura correta dos caracteres do arquivo)\n",
    "dados = pd.read_csv('arquivo_financas.csv', sep=';', encoding='latin-1')\n",
    "# Exibe as primeiras 3 linhas do arquivo\n",
    "dados.head(3)"
   ]
  },
  {
   "cell_type": "markdown",
   "metadata": {},
   "source": [
    "<h4>Formatando as colunas do arquivo</h4>\n",
    "<p>Formata a coluna de data no Dataframe para poder usar as funções do módulo datetime do Python</p>"
   ]
  },
  {
   "cell_type": "code",
   "execution_count": 3,
   "metadata": {},
   "outputs": [
    {
     "data": {
      "text/plain": [
       "Data                      datetime64[ns]\n",
       "Descrição                         object\n",
       "Categoria                         object\n",
       "Valor                             object\n",
       "Situação                          object\n",
       "Informações adicionais           float64\n",
       "dtype: object"
      ]
     },
     "execution_count": 3,
     "metadata": {},
     "output_type": "execute_result"
    }
   ],
   "source": [
    "# Formata a coluna referente a data (troca os 'pontos' por 'hífen')\n",
    "dados['Data'] = dados['Data'].str.replace('.', '-')\n",
    "\n",
    "# Percorre todos os itens da coluna transformando-os em dados do tipo 'datetime'\n",
    "datas_movimentos = dados['Data'].copy()\n",
    "for item in range(0, datas_movimentos.size):\n",
    "    # Converte a string para data\n",
    "    datas_movimentos[item] = datetime.strptime(datas_movimentos[item], '%d-%m-%Y')\n",
    "\n",
    "# Retorna os dados formatados para a coluna 'Data' do Dataframe\n",
    "dados['Data'] = datas_movimentos\n",
    "# Transforma a coluna de datas em uma Series do tipo datetime\n",
    "## Obs.: Tentei apenas usar este comando mas estava tendo problema com as datas pois estava trocando o dia pelo mês.\n",
    "## Ex.: 10-03-2020 > 03-10-2020\n",
    "## Com isso, passei a primeiro converter todos os itens para o formato Datetime para então formatar a coluna\n",
    "dados['Data'] = pd.to_datetime(dados['Data'], infer_datetime_format=True)\n",
    "\n",
    "# Verifica os tipos de dados de cada coluna\n",
    "dados.dtypes"
   ]
  },
  {
   "cell_type": "markdown",
   "metadata": {},
   "source": [
    "<h5>Adicionando dados</h5>\n",
    "    <p>Adiciona no Dataframe os dados referentes aos gastos previstos para o mês de Abril</p>"
   ]
  },
  {
   "cell_type": "code",
   "execution_count": 4,
   "metadata": {},
   "outputs": [
    {
     "data": {
      "text/html": [
       "<div>\n",
       "<style scoped>\n",
       "    .dataframe tbody tr th:only-of-type {\n",
       "        vertical-align: middle;\n",
       "    }\n",
       "\n",
       "    .dataframe tbody tr th {\n",
       "        vertical-align: top;\n",
       "    }\n",
       "\n",
       "    .dataframe thead th {\n",
       "        text-align: right;\n",
       "    }\n",
       "</style>\n",
       "<table border=\"1\" class=\"dataframe\">\n",
       "  <thead>\n",
       "    <tr style=\"text-align: right;\">\n",
       "      <th></th>\n",
       "      <th>Data</th>\n",
       "      <th>Descrição</th>\n",
       "      <th>Categoria</th>\n",
       "      <th>Valor</th>\n",
       "      <th>Situação</th>\n",
       "      <th>Informações adicionais</th>\n",
       "    </tr>\n",
       "  </thead>\n",
       "  <tbody>\n",
       "    <tr>\n",
       "      <td>13</td>\n",
       "      <td>2020-04-10</td>\n",
       "      <td>Condomínio</td>\n",
       "      <td>Home</td>\n",
       "      <td>-145</td>\n",
       "      <td>Pago</td>\n",
       "      <td>NaN</td>\n",
       "    </tr>\n",
       "    <tr>\n",
       "      <td>14</td>\n",
       "      <td>2020-04-10</td>\n",
       "      <td>Aluguel</td>\n",
       "      <td>Home</td>\n",
       "      <td>-650</td>\n",
       "      <td>Pago</td>\n",
       "      <td>NaN</td>\n",
       "    </tr>\n",
       "    <tr>\n",
       "      <td>15</td>\n",
       "      <td>2020-04-16</td>\n",
       "      <td>Prestação Moto</td>\n",
       "      <td>Transportation</td>\n",
       "      <td>-260</td>\n",
       "      <td>Pago</td>\n",
       "      <td>NaN</td>\n",
       "    </tr>\n",
       "    <tr>\n",
       "      <td>16</td>\n",
       "      <td>2020-04-23</td>\n",
       "      <td>Faculdade</td>\n",
       "      <td>Education</td>\n",
       "      <td>-320</td>\n",
       "      <td>Pago</td>\n",
       "      <td>NaN</td>\n",
       "    </tr>\n",
       "  </tbody>\n",
       "</table>\n",
       "</div>"
      ],
      "text/plain": [
       "         Data       Descrição       Categoria Valor Situação  \\\n",
       "13 2020-04-10      Condomínio            Home  -145     Pago   \n",
       "14 2020-04-10         Aluguel            Home  -650     Pago   \n",
       "15 2020-04-16  Prestação Moto  Transportation  -260     Pago   \n",
       "16 2020-04-23       Faculdade       Education  -320     Pago   \n",
       "\n",
       "    Informações adicionais  \n",
       "13                     NaN  \n",
       "14                     NaN  \n",
       "15                     NaN  \n",
       "16                     NaN  "
      ]
     },
     "execution_count": 4,
     "metadata": {},
     "output_type": "execute_result"
    }
   ],
   "source": [
    "# Adiciona o valor do condomínio para o mês de abril\n",
    "condominio_abril = dados.values[1]\n",
    "condominio_abril[0] = condominio_abril[0] + timedelta(days = 31)\n",
    "dados.loc[len(dados)] = condominio_abril\n",
    "\n",
    "# Adiciona o valor do aluguel do mês de abril\n",
    "aluguel_abril = dados.values[2]\n",
    "aluguel_abril[0] = aluguel_abril[0] + timedelta(days = 31)\n",
    "dados.loc[len(dados)] = aluguel_abril\n",
    "\n",
    "# Adiciona o valor da moto do mês de abril\n",
    "moto_abril = dados.values[4]\n",
    "moto_abril[0] = moto_abril[0] + timedelta(days = 31)\n",
    "dados.loc[len(dados)] = moto_abril\n",
    "\n",
    "# Adiciona o valor da faculdade do mês de abril\n",
    "faculdade_abril = dados.values[9]\n",
    "faculdade_abril[0] = faculdade_abril[0] + timedelta(days = 31)\n",
    "dados.loc[len(dados)] = faculdade_abril\n",
    "\n",
    "# Verifia quais são as últimas 4 linhas do arquivo\n",
    "dados.tail(4)"
   ]
  },
  {
   "cell_type": "markdown",
   "metadata": {},
   "source": [
    "<p>Adiciona uma nova coluna referente ao saldo após cada movimentação das finanças</p>"
   ]
  },
  {
   "cell_type": "code",
   "execution_count": 5,
   "metadata": {},
   "outputs": [
    {
     "data": {
      "text/html": [
       "<div>\n",
       "<style scoped>\n",
       "    .dataframe tbody tr th:only-of-type {\n",
       "        vertical-align: middle;\n",
       "    }\n",
       "\n",
       "    .dataframe tbody tr th {\n",
       "        vertical-align: top;\n",
       "    }\n",
       "\n",
       "    .dataframe thead th {\n",
       "        text-align: right;\n",
       "    }\n",
       "</style>\n",
       "<table border=\"1\" class=\"dataframe\">\n",
       "  <thead>\n",
       "    <tr style=\"text-align: right;\">\n",
       "      <th></th>\n",
       "      <th>Data</th>\n",
       "      <th>Descrição</th>\n",
       "      <th>Categoria</th>\n",
       "      <th>Valor</th>\n",
       "      <th>Situação</th>\n",
       "      <th>Saldo</th>\n",
       "    </tr>\n",
       "  </thead>\n",
       "  <tbody>\n",
       "    <tr>\n",
       "      <td>0</td>\n",
       "      <td>2020-03-01</td>\n",
       "      <td>Salário</td>\n",
       "      <td>Other earnings</td>\n",
       "      <td>2000</td>\n",
       "      <td>Pago</td>\n",
       "      <td>0.0</td>\n",
       "    </tr>\n",
       "    <tr>\n",
       "      <td>1</td>\n",
       "      <td>2020-03-10</td>\n",
       "      <td>Condomínio</td>\n",
       "      <td>Home</td>\n",
       "      <td>-145</td>\n",
       "      <td>Pago</td>\n",
       "      <td>0.0</td>\n",
       "    </tr>\n",
       "    <tr>\n",
       "      <td>2</td>\n",
       "      <td>2020-03-10</td>\n",
       "      <td>Aluguel</td>\n",
       "      <td>Home</td>\n",
       "      <td>-650</td>\n",
       "      <td>Pago</td>\n",
       "      <td>0.0</td>\n",
       "    </tr>\n",
       "  </tbody>\n",
       "</table>\n",
       "</div>"
      ],
      "text/plain": [
       "        Data   Descrição       Categoria Valor Situação  Saldo\n",
       "0 2020-03-01     Salário  Other earnings  2000     Pago    0.0\n",
       "1 2020-03-10  Condomínio            Home  -145     Pago    0.0\n",
       "2 2020-03-10     Aluguel            Home  -650     Pago    0.0"
      ]
     },
     "execution_count": 5,
     "metadata": {},
     "output_type": "execute_result"
    }
   ],
   "source": [
    "# Exclui a coluna de 'Informações adicionais'\n",
    "dados.pop('Informações adicionais')\n",
    "# Cria uma nova coluna 'Saldo' com dados inicializados com valor ZERO\n",
    "dados['Saldo'] = np.zeros(dados['Data'].size)\n",
    "\n",
    "### ou\n",
    "\n",
    "## Renomeia a coluna 'Informações adicionais' e inicializa com valores ZERO\n",
    "#dados.rename(columns={'Informações adicionais': 'Saldo'}, inplace=True)\n",
    "#dados['Saldo'] = np.zeros(dados['Saldo'].size)\n",
    "\n",
    "dados.head(3)"
   ]
  },
  {
   "cell_type": "markdown",
   "metadata": {},
   "source": [
    "<p>Formata os dados das colunas de valores para serem do tipo float para que possam ser usados nos cálculos mais adiante</p>"
   ]
  },
  {
   "cell_type": "code",
   "execution_count": 6,
   "metadata": {},
   "outputs": [
    {
     "data": {
      "text/plain": [
       "Data         datetime64[ns]\n",
       "Descrição            object\n",
       "Categoria            object\n",
       "Valor               float64\n",
       "Situação             object\n",
       "Saldo               float64\n",
       "dtype: object"
      ]
     },
     "execution_count": 6,
     "metadata": {},
     "output_type": "execute_result"
    }
   ],
   "source": [
    "# Cria uma matriz com os valores da coluna 'Valor'\n",
    "lista_valor = np.array(dados['Valor'])\n",
    "# Se os dados ainda não foram formatados para numéricos\n",
    "if dados['Valor'].dtype !='float64':\n",
    "    # Percorre todas as posições da lista\n",
    "    for indice in range(0, lista_valor.size):\n",
    "        # Se encontrou alguma vírgula\n",
    "        if ',' in lista_valor[indice]:\n",
    "            # Substitui a vírgula por ponto\n",
    "            lista_valor[indice] = lista_valor[indice].replace(',', '.')\n",
    "\n",
    "# Retorna os dados corretamente formatados para o dataframe\n",
    "dados['Valor'] = pd.to_numeric(lista_valor)\n",
    "# Verifica os tipos de dados de cada coluna\n",
    "dados.dtypes"
   ]
  },
  {
   "cell_type": "markdown",
   "metadata": {},
   "source": [
    "<p>Calcula o saldo da conta após cada movimentação das finanças</p>"
   ]
  },
  {
   "cell_type": "code",
   "execution_count": 7,
   "metadata": {},
   "outputs": [],
   "source": [
    "# Cria uma nova lista para armazenar o saldo de cada dia de movimentação\n",
    "saldo = np.zeros(dados['Saldo'].size)\n",
    "saldo[0] = dados['Valor'][0]\n",
    "# Calcula o saldo após cada movimentação de valores nas finanças\n",
    "for item in range(1, saldo.size):\n",
    "    # Saldo atual = saldo anterior +/- valor movimentado\n",
    "    saldo[item] = saldo[item - 1] + dados['Valor'][item]\n",
    "\n",
    "# Armazena na coluna 'Saldo' os valores de cada dia de movimentação\n",
    "dados['Saldo'] = saldo"
   ]
  },
  {
   "cell_type": "code",
   "execution_count": 8,
   "metadata": {},
   "outputs": [
    {
     "data": {
      "text/html": [
       "<div>\n",
       "<style scoped>\n",
       "    .dataframe tbody tr th:only-of-type {\n",
       "        vertical-align: middle;\n",
       "    }\n",
       "\n",
       "    .dataframe tbody tr th {\n",
       "        vertical-align: top;\n",
       "    }\n",
       "\n",
       "    .dataframe thead th {\n",
       "        text-align: right;\n",
       "    }\n",
       "</style>\n",
       "<table border=\"1\" class=\"dataframe\">\n",
       "  <thead>\n",
       "    <tr style=\"text-align: right;\">\n",
       "      <th></th>\n",
       "      <th>Data</th>\n",
       "      <th>Descrição</th>\n",
       "      <th>Categoria</th>\n",
       "      <th>Valor</th>\n",
       "      <th>Situação</th>\n",
       "      <th>Saldo</th>\n",
       "    </tr>\n",
       "  </thead>\n",
       "  <tbody>\n",
       "    <tr>\n",
       "      <td>0</td>\n",
       "      <td>2020-03-01</td>\n",
       "      <td>Salário</td>\n",
       "      <td>Other earnings</td>\n",
       "      <td>2000.0</td>\n",
       "      <td>Pago</td>\n",
       "      <td>2000.0</td>\n",
       "    </tr>\n",
       "    <tr>\n",
       "      <td>1</td>\n",
       "      <td>2020-03-10</td>\n",
       "      <td>Condomínio</td>\n",
       "      <td>Home</td>\n",
       "      <td>-145.0</td>\n",
       "      <td>Pago</td>\n",
       "      <td>1855.0</td>\n",
       "    </tr>\n",
       "    <tr>\n",
       "      <td>2</td>\n",
       "      <td>2020-03-10</td>\n",
       "      <td>Aluguel</td>\n",
       "      <td>Home</td>\n",
       "      <td>-650.0</td>\n",
       "      <td>Pago</td>\n",
       "      <td>1205.0</td>\n",
       "    </tr>\n",
       "  </tbody>\n",
       "</table>\n",
       "</div>"
      ],
      "text/plain": [
       "        Data   Descrição       Categoria   Valor Situação   Saldo\n",
       "0 2020-03-01     Salário  Other earnings  2000.0     Pago  2000.0\n",
       "1 2020-03-10  Condomínio            Home  -145.0     Pago  1855.0\n",
       "2 2020-03-10     Aluguel            Home  -650.0     Pago  1205.0"
      ]
     },
     "execution_count": 8,
     "metadata": {},
     "output_type": "execute_result"
    }
   ],
   "source": [
    "dados.head(3)"
   ]
  },
  {
   "cell_type": "markdown",
   "metadata": {},
   "source": [
    "<h2>Visualização dos dados</h2>"
   ]
  },
  {
   "cell_type": "code",
   "execution_count": 9,
   "metadata": {},
   "outputs": [],
   "source": [
    "# Importa biblioteca Matplotlib para visualização de dados\n",
    "import matplotlib as mpl\n",
    "import matplotlib.pyplot as plt\n",
    "from matplotlib.pyplot import figure\n",
    "# Indica que deve exibir os gráficos aqui no Jupyter Notebook\n",
    "%matplotlib inline"
   ]
  },
  {
   "cell_type": "markdown",
   "metadata": {},
   "source": [
    "<h4>Visualização dos gastos por data</h4>"
   ]
  },
  {
   "cell_type": "code",
   "execution_count": 10,
   "metadata": {},
   "outputs": [
    {
     "data": {
      "text/plain": [
       "[<matplotlib.lines.Line2D at 0x1e4d5b95fc8>]"
      ]
     },
     "execution_count": 10,
     "metadata": {},
     "output_type": "execute_result"
    },
    {
     "data": {
      "image/png": "[encoded data removed]",
      "text/plain": [
       "<Figure size 1440x720 with 1 Axes>"
      ]
     },
     "metadata": {
      "needs_background": "light"
     },
     "output_type": "display_data"
    }
   ],
   "source": [
    "# Cria os eixos do gráfico a partir dos dados do Dataframe\n",
    "x = dados['Data'].astype('str')\n",
    "y = dados['Saldo']\n",
    "\n",
    "# Tamnho do gráfico\n",
    "plt.subplots(figsize=(20,10))\n",
    "# Descrição dos eixos e título do gráfico\n",
    "plt.xlabel('Data')\n",
    "plt.ylabel('Saldo')\n",
    "plt.title('Finanças Pessoais - 01/03/2020 - 30/04/2020')\n",
    "# Valores a serem exibidos no eixo Y\n",
    "plt.yticks(y)\n",
    "# Ângulo de exibição dos valores do eixo X\n",
    "plt.xticks(rotation=70)\n",
    "# Linha 'divisória' do gráfico\n",
    "plt.axhline(y=0, color='r', linestyle='--')\n",
    "# Exibição do gráfico\n",
    "plt.plot(x, y, 'go-')"
   ]
  },
  {
   "cell_type": "markdown",
   "metadata": {},
   "source": [
    "<h4>Dias positivos x Dias negativos</h4>"
   ]
  },
  {
   "cell_type": "code",
   "execution_count": 11,
   "metadata": {},
   "outputs": [],
   "source": [
    "# Arrays de dias positivos/negativos por mês\n",
    "dias_positivos = np.zeros(2)\n",
    "dias_negativos = np.zeros(2)\n",
    "# Indica se o saldo está negativo\n",
    "saldo_negativo = False\n",
    "# Demais variáveis para cálculo de dias positivos/negativos por mês\n",
    "dias_negativos_mes = 0\n",
    "data_inicio = ''\n",
    "indice_mes = 0\n",
    "mes = 0\n",
    "\n",
    "# Percorre todas as linhas do Dataframe\n",
    "for indice, valores in dados.iterrows():\n",
    "    # Se é o primeiro registro lido, atualiza as variáveis de controle\n",
    "    if data_inicio == '':\n",
    "        data_inicio = valores['Data']\n",
    "    if mes == 0:\n",
    "        mes = valores['Data'].month\n",
    "\n",
    "    # Se o saldo não estava negativo mas passou a ficar\n",
    "    if (not saldo_negativo) and valores['Saldo'] < 0:\n",
    "        saldo_negativo = True\n",
    "        # Inicia a contagem de dias negativos\n",
    "        dias_negativos_mes += 1\n",
    "        # Data em que o saldo ficou negativo\n",
    "        data_inicio = valores['Data']\n",
    "\n",
    "    # Se trocou de mês\n",
    "    if valores['Data'].month != mes:\n",
    "        # Se o saldo está negativo, calcula a quantidade de dias negativo até o fim do mês\n",
    "        if saldo_negativo:\n",
    "            # Se for o mês de março, tem 31 dias, senão, tem 30 dias\n",
    "            if mes == 3:\n",
    "                dias_negativos_mes = dias_negativos_mes + (31 - data_inicio.day)\n",
    "                dias_positivos[indice_mes] += 31 - dias_negativos_mes\n",
    "            else:\n",
    "                dias_negativos_mes = dias_negativos_mes + (30 - data_inicio.day)\n",
    "                dias_positivos[indice_mes] += 30 - dias_negativos_mes\n",
    "                # Incrementa o índice de meses a partir do segundo mês\n",
    "        # Dias negativos daquele mês\n",
    "        dias_negativos[indice_mes] += dias_negativos_mes\n",
    "\n",
    "        # Inicializa as variáveis utilizadas para os cálculos de cada mês\n",
    "        indice_mes += 1\n",
    "        dias_negativos_mes = 0\n",
    "        saldo_negativo = False\n",
    "        mes = valores['Data'].month\n",
    "        data_inicio = valores['Data']\n",
    "\n",
    "    # Se o saldo está negativo e passou a ficar positivo\n",
    "    if saldo_negativo and valores['Saldo'] >= 0:\n",
    "        # Indica que o saldo está positivo\n",
    "        saldo_negativo = False\n",
    "        # Calcula a quantidade de dias que o saldo esteve negativo\n",
    "        dias_negativos_mes += (valores['Data'] - data_inicio)\n",
    "\n",
    "# Se não calculou os dias positivos do último mês\n",
    "if dias_positivos[indice_mes] == 0:\n",
    "    dias_positivos[indice_mes] += 30 - dias_negativos_mes"
   ]
  },
  {
   "cell_type": "code",
   "execution_count": 12,
   "metadata": {},
   "outputs": [
    {
     "data": {
      "image/png": "[encoded data removed]",
      "text/plain": [
       "<Figure size 432x288 with 1 Axes>"
      ]
     },
     "metadata": {
      "needs_background": "light"
     },
     "output_type": "display_data"
    }
   ],
   "source": [
    "# Valores do eixo X para exibição dos dias Positivos/Negativos do mês\n",
    "meses = ['Março', 'Abril']\n",
    "x = np.arange(len(meses))\n",
    "\n",
    "# Barra de dias positivos/negativos no gráfico\n",
    "plt.bar(x + 0.15, dias_positivos, color='blue', width=0.30, align='center')\n",
    "plt.bar(x - 0.15, dias_negativos, color='red', width=0.30, align='center')\n",
    "# Valores a serem exibidos no eixos X e Y do gráfico\n",
    "plt.xticks(x, meses)\n",
    "plt.yticks(np.concatenate((dias_negativos,dias_positivos), axis=0))\n",
    "# Legenda das barras do gráfico\n",
    "plt.legend(('Negativo', 'Positivo'))\n",
    "\n",
    "# Exibição do gráfico\n",
    "plt.show()"
   ]
  },
  {
   "cell_type": "markdown",
   "metadata": {},
   "source": [
    "<h4>Valores do Super Mercado por Mês</h4>"
   ]
  },
  {
   "cell_type": "code",
   "execution_count": 13,
   "metadata": {},
   "outputs": [],
   "source": [
    "# Array para armazenar os valores do Super Mercado por mês\n",
    "valores_mercado = np.zeros(2)\n",
    "# Variáveis auxiliares para calculos dos valores por mês\n",
    "valor_mercado_mes = 0\n",
    "indice_mes = 0\n",
    "mes = 0\n",
    "\n",
    "# Percorre todos os registros do Dataframe\n",
    "for indice, valores in dados.iterrows():\n",
    "    # Se for o primeiro registro\n",
    "    if mes == 0:\n",
    "        mes = valores['Data'].month\n",
    "\n",
    "    # Se trocou de mês\n",
    "    if valores['Data'].month != mes:\n",
    "        # Calcula o valor gasto com Super Mercado no mês\n",
    "        valores_mercado[indice_mes] = valores_mercado[indice_mes] + valor_mercado_mes\n",
    "        # Atualiza variáveis de controle dos valores por mês\n",
    "        mes = valores['Data'].month\n",
    "        valor_mercado_mes = 0\n",
    "        indice_mes =+ 1\n",
    "\n",
    "    # Se for um registro de gastos no Super Mercado\n",
    "    if valores['Descrição'] == 'Super Mercado':\n",
    "        # Adiciona o valor gasto no total gasto no mês\n",
    "        valor_mercado_mes += (valores['Valor'] * -1)\n",
    "\n",
    "# Se não calculou o valor de Super Mercado do último mês\n",
    "if valores_mercado[indice_mes] == 0:\n",
    "    valores_mercado[indice_mes] = valor_mercado_mes"
   ]
  },
  {
   "cell_type": "code",
   "execution_count": 14,
   "metadata": {},
   "outputs": [
    {
     "data": {
      "image/png": "[encoded data removed]",
      "text/plain": [
       "<Figure size 432x288 with 1 Axes>"
      ]
     },
     "metadata": {
      "needs_background": "light"
     },
     "output_type": "display_data"
    }
   ],
   "source": [
    "# Valores do eixo X para exibição dos gastos com Super Mercado por mês\n",
    "meses = ['Março', 'Abril']\n",
    "x = np.arange(len(meses))\n",
    "# Média dos valores gastos por mês no Super Mercado\n",
    "media = valores_mercado.sum() / valores_mercado.size\n",
    "\n",
    "# Valores da barra de exibição do gráfico\n",
    "plt.bar(x, valores_mercado, color='green', width=0.5)\n",
    "# Valores a serem exibidos no eixo X\n",
    "plt.xticks(x, meses)\n",
    "# Valores a serem exibidos no eixo Y\n",
    "plt.yticks(np.concatenate((valores_mercado, [0, 100, 200, media]), axis=0))\n",
    "# Linha 'divisória' a ser exibida no eixo Y\n",
    "plt.axhline(y=media, color='y', linestyle='--')\n",
    "# Texto da linha 'divisória'\n",
    "plt.text(0, media, 'Média', color=\"brown\", ha=\"left\", va=\"top\")\n",
    "\n",
    "# Exibição do gráfico\n",
    "plt.show()"
   ]
  },
  {
   "cell_type": "code",
   "execution_count": null,
   "metadata": {},
   "outputs": [],
   "source": []
  }
 ],
 "metadata": {
  "kernelspec": {
   "display_name": "Python 3",
   "language": "python",
   "name": "python3"
  },
  "language_info": {
   "codemirror_mode": {
    "name": "ipython",
    "version": 3
   },
   "file_extension": ".py",
   "mimetype": "text/x-python",
   "name": "python",
   "nbconvert_exporter": "python",
   "pygments_lexer": "ipython3",
   "version": "3.7.4"
  }
 },
 "nbformat": 4,
 "nbformat_minor": 2
}
